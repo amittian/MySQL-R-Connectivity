{
 "cells": [
  {
   "cell_type": "code",
   "execution_count": 2,
   "metadata": {},
   "outputs": [
    {
     "name": "stderr",
     "output_type": "stream",
     "text": [
      "Warning message:\n",
      "\"package 'RMySQL' was built under R version 3.4.4\""
     ]
    }
   ],
   "source": [
    "library(DBI)\n",
    "library(RMySQL)"
   ]
  },
  {
   "cell_type": "code",
   "execution_count": 3,
   "metadata": {},
   "outputs": [],
   "source": [
    "con <- dbConnect(RMySQL::MySQL(), \n",
    "                 dbname = \"tweater\", \n",
    "                 host = \"courses.csrrinzqubik.us-east-1.rds.amazonaws.com\", \n",
    "                 port = 3306,\n",
    "                 user = \"goldengate\",\n",
    "                 password = \"*****\")"
   ]
  },
  {
   "cell_type": "code",
   "execution_count": 6,
   "metadata": {},
   "outputs": [
    {
     "data": {
      "text/html": [
       "<ol class=list-inline>\n",
       "\t<li>'comments'</li>\n",
       "\t<li>'tweats'</li>\n",
       "\t<li>'users'</li>\n",
       "</ol>\n"
      ],
      "text/latex": [
       "\\begin{enumerate*}\n",
       "\\item 'comments'\n",
       "\\item 'tweats'\n",
       "\\item 'users'\n",
       "\\end{enumerate*}\n"
      ],
      "text/markdown": [
       "1. 'comments'\n",
       "2. 'tweats'\n",
       "3. 'users'\n",
       "\n",
       "\n"
      ],
      "text/plain": [
       "[1] \"comments\" \"tweats\"   \"users\"   "
      ]
     },
     "metadata": {},
     "output_type": "display_data"
    }
   ],
   "source": [
    "dbListTables(con)"
   ]
  },
  {
   "cell_type": "code",
   "execution_count": 7,
   "metadata": {},
   "outputs": [],
   "source": [
    "mysql_con <- dbSendQuery(con , \" select * from tweats\")"
   ]
  },
  {
   "cell_type": "code",
   "execution_count": 8,
   "metadata": {},
   "outputs": [],
   "source": [
    "mysql_data <- fetch(mysql_con , n = -1 )"
   ]
  },
  {
   "cell_type": "code",
   "execution_count": 9,
   "metadata": {},
   "outputs": [
    {
     "data": {
      "text/html": [
       "<table>\n",
       "<thead><tr><th scope=col>id</th><th scope=col>user_id</th><th scope=col>post</th><th scope=col>date</th></tr></thead>\n",
       "<tbody>\n",
       "\t<tr><td>75                                                                 </td><td>3                                                                  </td><td>break egg. bake egg. eat egg.                                      </td><td>2015-09-05                                                         </td></tr>\n",
       "\t<tr><td>88                                                                 </td><td>4                                                                  </td><td>wash strawberries. add ice. blend. enjoy.                          </td><td>2015-09-14                                                         </td></tr>\n",
       "\t<tr><td>77                                                                 </td><td>6                                                                  </td><td>2 slices of bread. add cheese. grill. heaven.                      </td><td>2015-09-21                                                         </td></tr>\n",
       "\t<tr><td>87                                                                 </td><td>5                                                                  </td><td>open and crush avocado. add shrimps. perfect starter.              </td><td>2015-09-22                                                         </td></tr>\n",
       "\t<tr><td>49                                                                 </td><td>1                                                                  </td><td>nachos. add tomato sauce, minced meat and cheese. oven for 10 mins.</td><td>2015-09-22                                                         </td></tr>\n",
       "\t<tr><td>24                                                                 </td><td>7                                                                  </td><td>just eat an apple. simply and healthy.                             </td><td>2015-09-24                                                         </td></tr>\n",
       "</tbody>\n",
       "</table>\n"
      ],
      "text/latex": [
       "\\begin{tabular}{r|llll}\n",
       " id & user\\_id & post & date\\\\\n",
       "\\hline\n",
       "\t 75                                                                  & 3                                                                   & break egg. bake egg. eat egg.                                       & 2015-09-05                                                         \\\\\n",
       "\t 88                                                                  & 4                                                                   & wash strawberries. add ice. blend. enjoy.                           & 2015-09-14                                                         \\\\\n",
       "\t 77                                                                  & 6                                                                   & 2 slices of bread. add cheese. grill. heaven.                       & 2015-09-21                                                         \\\\\n",
       "\t 87                                                                  & 5                                                                   & open and crush avocado. add shrimps. perfect starter.               & 2015-09-22                                                         \\\\\n",
       "\t 49                                                                  & 1                                                                   & nachos. add tomato sauce, minced meat and cheese. oven for 10 mins. & 2015-09-22                                                         \\\\\n",
       "\t 24                                                                  & 7                                                                   & just eat an apple. simply and healthy.                              & 2015-09-24                                                         \\\\\n",
       "\\end{tabular}\n"
      ],
      "text/markdown": [
       "\n",
       "id | user_id | post | date | \n",
       "|---|---|---|---|---|---|\n",
       "| 75                                                                  | 3                                                                   | break egg. bake egg. eat egg.                                       | 2015-09-05                                                          | \n",
       "| 88                                                                  | 4                                                                   | wash strawberries. add ice. blend. enjoy.                           | 2015-09-14                                                          | \n",
       "| 77                                                                  | 6                                                                   | 2 slices of bread. add cheese. grill. heaven.                       | 2015-09-21                                                          | \n",
       "| 87                                                                  | 5                                                                   | open and crush avocado. add shrimps. perfect starter.               | 2015-09-22                                                          | \n",
       "| 49                                                                  | 1                                                                   | nachos. add tomato sauce, minced meat and cheese. oven for 10 mins. | 2015-09-22                                                          | \n",
       "| 24                                                                  | 7                                                                   | just eat an apple. simply and healthy.                              | 2015-09-24                                                          | \n",
       "\n",
       "\n"
      ],
      "text/plain": [
       "  id user_id\n",
       "1 75 3      \n",
       "2 88 4      \n",
       "3 77 6      \n",
       "4 87 5      \n",
       "5 49 1      \n",
       "6 24 7      \n",
       "  post                                                               \n",
       "1 break egg. bake egg. eat egg.                                      \n",
       "2 wash strawberries. add ice. blend. enjoy.                          \n",
       "3 2 slices of bread. add cheese. grill. heaven.                      \n",
       "4 open and crush avocado. add shrimps. perfect starter.              \n",
       "5 nachos. add tomato sauce, minced meat and cheese. oven for 10 mins.\n",
       "6 just eat an apple. simply and healthy.                             \n",
       "  date      \n",
       "1 2015-09-05\n",
       "2 2015-09-14\n",
       "3 2015-09-21\n",
       "4 2015-09-22\n",
       "5 2015-09-22\n",
       "6 2015-09-24"
      ]
     },
     "metadata": {},
     "output_type": "display_data"
    }
   ],
   "source": [
    "mysql_data"
   ]
  },
  {
   "cell_type": "code",
   "execution_count": null,
   "metadata": {},
   "outputs": [],
   "source": []
  }
 ],
 "metadata": {
  "kernelspec": {
   "display_name": "R",
   "language": "R",
   "name": "ir"
  },
  "language_info": {
   "codemirror_mode": "r",
   "file_extension": ".r",
   "mimetype": "text/x-r-source",
   "name": "R",
   "pygments_lexer": "r",
   "version": "3.4.3"
  }
 },
 "nbformat": 4,
 "nbformat_minor": 2
}
